{
  "cells": [
    {
      "cell_type": "code",
      "execution_count": 6,
      "metadata": {
        "id": "U31i5ypyL1TH"
      },
      "outputs": [],
      "source": [
        "import os\n",
        "from dotenv import load_dotenv\n",
        "import cohere\n",
        "import weaviate\n",
        "# ! pip install weaviate-client"
      ]
    },
    {
      "cell_type": "code",
      "execution_count": 8,
      "metadata": {
        "id": "5IEqPlp_L1TK",
        "outputId": "92011b84-e892-4a30-a2ee-855a5aa6d9f5",
        "colab": {
          "base_uri": "https://localhost:8080/"
        }
      },
      "outputs": [
        {
          "output_type": "stream",
          "name": "stderr",
          "text": [
            "<ipython-input-8-8756ec0557c8>:8: DeprecationWarning: \n",
            "Python client v3 `weaviate.Client(...)` connections and methods are deprecated and will\n",
            "            be removed by 2024-11-30.\n",
            "\n",
            "            Upgrade your code to use Python client v4 `weaviate.WeaviateClient` connections and methods.\n",
            "                - For Python Client v4 usage, see: https://weaviate.io/developers/weaviate/client-libraries/python\n",
            "                - For code migration, see: https://weaviate.io/developers/weaviate/client-libraries/python/v3_v4_migration\n",
            "\n",
            "            If you have to use v3 code, install the v3 client and pin the v3 dependency in your requirements file: `weaviate-client>=3.26.7;<4.0.0`\n",
            "  client = weaviate.Client(\n"
          ]
        }
      ],
      "source": [
        "# Load environment variables\n",
        "load_dotenv()\n",
        "\n",
        "# Initialize Cohere and Weaviate clients\n",
        "co = cohere.Client(os.environ['COHERE_API_KEY'])\n",
        "\n",
        "auth_config = weaviate.auth.AuthApiKey(api_key=os.environ['WEAVIATE_API_KEY'])\n",
        "client = weaviate.Client(\n",
        "    url=os.environ['WEAVIATE_API_URL'],\n",
        "    auth_client_secret=auth_config,\n",
        "    additional_headers={\n",
        "        \"X-Cohere-Api-Key\": os.environ['COHERE_API_KEY'],\n",
        "    }\n",
        ")"
      ]
    },
    {
      "cell_type": "code",
      "execution_count": 12,
      "metadata": {
        "id": "bQ7EM0QaL1TL"
      },
      "outputs": [],
      "source": [
        "schema = {\n",
        "    \"classes\": [\n",
        "        {\n",
        "            \"class\": \"Articles\",  # Class name\n",
        "            \"description\": \"A class to store articles for retrieval\",\n",
        "            \"vectorizer\": \"text2vec-cohere\",  # Cohere vectorizer\n",
        "            \"properties\": [\n",
        "                {\n",
        "                    \"name\": \"title\",\n",
        "                    \"dataType\": [\"string\"],\n",
        "                    \"description\": \"The title of the article\"\n",
        "                },\n",
        "                {\n",
        "                    \"name\": \"text\",\n",
        "                    \"dataType\": [\"text\"],\n",
        "                    \"description\": \"The unstructured content of the article\"\n",
        "                }\n",
        "            ]\n",
        "        }\n",
        "    ]\n",
        "}\n",
        "\n",
        "# Add schema to Weaviate\n",
        "\n"
      ]
    },
    {
      "cell_type": "code",
      "execution_count": 13,
      "metadata": {
        "id": "QNvvFqDnL1TN"
      },
      "outputs": [],
      "source": [
        "client.schema.create(schema)"
      ]
    },
    {
      "cell_type": "code",
      "execution_count": 14,
      "metadata": {
        "id": "crsgTxRyL1TN"
      },
      "outputs": [],
      "source": [
        "# Example unstructured data\n",
        "articles = [\n",
        "    {\n",
        "        \"title\": \"Ottawa: The Capital of Canada\",\n",
        "        \"text\": \"Ottawa is the capital city of Canada, located in the province of Ontario.\"\n",
        "    },\n",
        "    {\n",
        "        \"title\": \"Canada Geography\",\n",
        "        \"text\": \"Canada is the second-largest country in the world by land area.\"\n",
        "    },\n",
        "    {\n",
        "        \"title\": \"History of Canada\",\n",
        "        \"text\": \"Canada has a rich history, including its indigenous peoples and colonial past.\"\n",
        "    }\n",
        "]\n",
        "\n",
        "# Insert data into Weaviate\n",
        "for article in articles:\n",
        "    client.data_object.create(\n",
        "        data_object=article,\n",
        "        class_name=\"Article\"\n",
        "    )\n"
      ]
    },
    {
      "cell_type": "code",
      "execution_count": 15,
      "metadata": {
        "id": "5_tOQiotL1TO",
        "outputId": "e7fffb46-1284-41a6-f562-630ceff91546",
        "colab": {
          "base_uri": "https://localhost:8080/"
        }
      },
      "outputs": [
        {
          "output_type": "stream",
          "name": "stdout",
          "text": [
            "Result 1:\n",
            "Title: Ottawa: The Capital of Canada\n",
            "Text: Ottawa is the capital city of Canada, located in the province of Ontario.\n",
            "Result 2:\n",
            "Title: Ottawa: The Capital of Canada\n",
            "Text: Ottawa is the capital city of Canada, located in the province of Ontario.\n",
            "Result 3:\n",
            "Title: Canada Geography\n",
            "Text: Canada is the second-largest country in the world by land area.\n"
          ]
        }
      ],
      "source": [
        "query = \"What is the capital of Canada?\"\n",
        "\n",
        "response = client.query.get(\"Article\", [\"title\", \"text\"]) \\\n",
        "    .with_near_text({\"concepts\": [query]}) \\\n",
        "    .with_limit(3) \\\n",
        "    .do()\n",
        "\n",
        "# Display results\n",
        "for i, result in enumerate(response['data']['Get']['Article']):\n",
        "    print(f\"Result {i+1}:\")\n",
        "    print(f\"Title: {result['title']}\")\n",
        "    print(f\"Text: {result['text']}\")\n"
      ]
    },
    {
      "cell_type": "code",
      "execution_count": 16,
      "metadata": {
        "id": "rbT228OlL1TP",
        "outputId": "c72b31da-2508-4797-be93-93d49dde625e",
        "colab": {
          "base_uri": "https://localhost:8080/"
        }
      },
      "outputs": [
        {
          "output_type": "stream",
          "name": "stdout",
          "text": [
            "Result 1:\n",
            "Title: Ottawa: The Capital of Canada\n",
            "Text: Ottawa is the capital city of Canada, located in the province of Ontario.\n",
            "Result 2:\n",
            "Title: Ottawa: The Capital of Canada\n",
            "Text: Ottawa is the capital city of Canada, located in the province of Ontario.\n",
            "Result 3:\n",
            "Title: History of Canada\n",
            "Text: Canada has a rich history, including its indigenous peoples and colonial past.\n"
          ]
        }
      ],
      "source": [
        "query = \"What is the capital of Canada?\"\n",
        "\n",
        "response = client.query.get(\"Article\", [\"title\", \"text\"]) \\\n",
        "    .with_hybrid(query=query, alpha=0.7) \\\n",
        "    .with_limit(3) \\\n",
        "    .do()\n",
        "\n",
        "# Display results\n",
        "for i, result in enumerate(response['data']['Get']['Article']):\n",
        "    print(f\"Result {i+1}:\")\n",
        "    print(f\"Title: {result['title']}\")\n",
        "    print(f\"Text: {result['text']}\")\n"
      ]
    },
    {
      "cell_type": "code",
      "execution_count": 17,
      "metadata": {
        "id": "M7h7b69sL1TQ"
      },
      "outputs": [],
      "source": [
        "def rerank_results(query, results, co):\n",
        "    # Extract the text of each document for reranking\n",
        "    texts = [res.get('text', '') for res in results]  # Assuming `results` contains a list of dictionaries with a 'text' field\n",
        "\n",
        "    if not all(texts):\n",
        "        raise ValueError(\"Some documents are empty or missing text content.\")\n",
        "\n",
        "    # Call Cohere's rerank API\n",
        "    print(texts)\n",
        "    reranked = co.rerank(query=query, documents=texts, top_n=len(texts))\n",
        "\n",
        "    return reranked\n"
      ]
    },
    {
      "cell_type": "code",
      "execution_count": 18,
      "metadata": {
        "id": "bTkYFGU4L1TS",
        "outputId": "ff585b40-3753-4d5c-b77e-168e6831545d",
        "colab": {
          "base_uri": "https://localhost:8080/"
        }
      },
      "outputs": [
        {
          "output_type": "stream",
          "name": "stdout",
          "text": [
            "['Ottawa is the capital city of Canada, located in the province of Ontario.', 'Ottawa is the capital city of Canada, located in the province of Ontario.', 'Canada is the second-largest country in the world by land area.', 'Canada is the second-largest country in the world by land area.', 'Canada has a rich history, including its indigenous peoples and colonial past.', 'Canada has a rich history, including its indigenous peoples and colonial past.']\n"
          ]
        }
      ],
      "source": [
        "# Retrieve dense results\n",
        "response = client.query.get(\"Article\", [\"title\", \"text\"]) \\\n",
        "    .with_near_text({\"concepts\": [query]}) \\\n",
        "    .with_limit(10) \\\n",
        "    .do()\n",
        "\n",
        "# Rerank results\n",
        "dense_results = response['data']['Get']['Article']\n",
        "reranked_results = rerank_results(query, dense_results, co)\n",
        "\n",
        "\n"
      ]
    },
    {
      "cell_type": "code",
      "execution_count": 19,
      "metadata": {
        "id": "qu0afrXIL1TT"
      },
      "outputs": [],
      "source": [
        "texts = [res.get('text', '') for res in dense_results]"
      ]
    },
    {
      "cell_type": "code",
      "execution_count": 20,
      "metadata": {
        "id": "KfnvsBpBL1TU",
        "outputId": "b73376df-9c6b-4b71-e9e8-b3d730fb54b6",
        "colab": {
          "base_uri": "https://localhost:8080/"
        }
      },
      "outputs": [
        {
          "output_type": "stream",
          "name": "stdout",
          "text": [
            "Query: What is the capital of Canada?\n",
            "Rank 1: 0 : Ottawa is the capital city of Canada, located in the province of Ontario. (Relevance Score: 0.9935369)\n",
            "Rank 2: 1 : Ottawa is the capital city of Canada, located in the province of Ontario. (Relevance Score: 0.9935369)\n",
            "Rank 3: 2 : Canada is the second-largest country in the world by land area. (Relevance Score: 0.07613248)\n",
            "Rank 4: 3 : Canada is the second-largest country in the world by land area. (Relevance Score: 0.07613248)\n",
            "Rank 5: 4 : Canada has a rich history, including its indigenous peoples and colonial past. (Relevance Score: 0.02865267)\n",
            "Rank 6: 5 : Canada has a rich history, including its indigenous peoples and colonial past. (Relevance Score: 0.02865267)\n"
          ]
        }
      ],
      "source": [
        "# Display reranked results\n",
        "print('Query:', query)\n",
        "for i, result in enumerate(reranked_results.results):\n",
        "    print(f\"Rank {i+1}: {result.index} : {texts[i]} (Relevance Score: {result.relevance_score})\")"
      ]
    },
    {
      "cell_type": "code",
      "execution_count": 23,
      "metadata": {
        "id": "yhVu8sn1L1TV",
        "outputId": "06a09932-d02e-4cfe-bb9d-8784172d3581",
        "colab": {
          "base_uri": "https://localhost:8080/",
          "height": 214
        }
      },
      "outputs": [
        {
          "output_type": "error",
          "ename": "AttributeError",
          "evalue": "'GetBuilder' object has no attribute 'with_search'",
          "traceback": [
            "\u001b[0;31m---------------------------------------------------------------------------\u001b[0m",
            "\u001b[0;31mAttributeError\u001b[0m                            Traceback (most recent call last)",
            "\u001b[0;32m<ipython-input-23-fd8f179f99fb>\u001b[0m in \u001b[0;36m<cell line: 3>\u001b[0;34m()\u001b[0m\n\u001b[1;32m      1\u001b[0m \u001b[0mquery\u001b[0m \u001b[0;34m=\u001b[0m \u001b[0;34m\"capital of Canada\"\u001b[0m\u001b[0;34m\u001b[0m\u001b[0;34m\u001b[0m\u001b[0m\n\u001b[1;32m      2\u001b[0m \u001b[0;34m\u001b[0m\u001b[0m\n\u001b[0;32m----> 3\u001b[0;31m \u001b[0mresponse\u001b[0m \u001b[0;34m=\u001b[0m \u001b[0mclient\u001b[0m\u001b[0;34m.\u001b[0m\u001b[0mquery\u001b[0m\u001b[0;34m.\u001b[0m\u001b[0mget\u001b[0m\u001b[0;34m(\u001b[0m\u001b[0;34m\"Articles\"\u001b[0m\u001b[0;34m,\u001b[0m \u001b[0;34m[\u001b[0m\u001b[0;34m\"title\"\u001b[0m\u001b[0;34m,\u001b[0m \u001b[0;34m\"text\"\u001b[0m\u001b[0;34m]\u001b[0m\u001b[0;34m)\u001b[0m\u001b[0;34m.\u001b[0m\u001b[0mwith_search\u001b[0m\u001b[0;34m(\u001b[0m\u001b[0mquery\u001b[0m\u001b[0;34m=\u001b[0m\u001b[0mquery\u001b[0m\u001b[0;34m)\u001b[0m\u001b[0;34m.\u001b[0m\u001b[0mwith_limit\u001b[0m\u001b[0;34m(\u001b[0m\u001b[0;36m3\u001b[0m\u001b[0;34m)\u001b[0m\u001b[0;34m.\u001b[0m\u001b[0mdo\u001b[0m\u001b[0;34m(\u001b[0m\u001b[0;34m)\u001b[0m\u001b[0;34m\u001b[0m\u001b[0;34m\u001b[0m\u001b[0m\n\u001b[0m\u001b[1;32m      4\u001b[0m \u001b[0;34m\u001b[0m\u001b[0m\n\u001b[1;32m      5\u001b[0m \u001b[0;31m# Display sparse retrieval results\u001b[0m\u001b[0;34m\u001b[0m\u001b[0;34m\u001b[0m\u001b[0m\n",
            "\u001b[0;31mAttributeError\u001b[0m: 'GetBuilder' object has no attribute 'with_search'"
          ]
        }
      ],
      "source": [
        "query = \"capital of Canada\"\n",
        "\n",
        "response = client.query.get(\"Articles\", [\"title\", \"text\"]).with_search(query=query).with_limit(3).do()\n",
        "\n",
        "# Display sparse retrieval results\n",
        "for i, result in enumerate(response['data']['Get']['Articles']):\n",
        "    print(f\"Result {i+1}:\")\n",
        "    print(f\"Title: {result['title']}\")\n",
        "    print(f\"Text: {result['text']}\")\n"
      ]
    },
    {
      "cell_type": "code",
      "execution_count": null,
      "metadata": {
        "id": "LrwDYhi_L1TW"
      },
      "outputs": [],
      "source": []
    }
  ],
  "metadata": {
    "kernelspec": {
      "display_name": "Python 3",
      "language": "python",
      "name": "python3"
    },
    "language_info": {
      "codemirror_mode": {
        "name": "ipython",
        "version": 3
      },
      "file_extension": ".py",
      "mimetype": "text/x-python",
      "name": "python",
      "nbconvert_exporter": "python",
      "pygments_lexer": "ipython3",
      "version": "3.10.0"
    },
    "colab": {
      "provenance": []
    }
  },
  "nbformat": 4,
  "nbformat_minor": 0
}